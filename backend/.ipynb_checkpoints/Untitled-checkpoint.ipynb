{
 "cells": [
  {
   "cell_type": "code",
   "execution_count": 21,
   "id": "6ae1f4ae",
   "metadata": {},
   "outputs": [],
   "source": [
    "import json"
   ]
  },
  {
   "cell_type": "code",
   "execution_count": 26,
   "id": "f7f62324",
   "metadata": {},
   "outputs": [],
   "source": [
    "path = \"data/sample.txt\""
   ]
  },
  {
   "cell_type": "code",
   "execution_count": 27,
   "id": "91a2a5bc",
   "metadata": {},
   "outputs": [],
   "source": [
    "with open (path, 'r') as f:\n",
    "    data = json.load(f)"
   ]
  },
  {
   "cell_type": "code",
   "execution_count": 28,
   "id": "a15f6a14",
   "metadata": {},
   "outputs": [
    {
     "data": {
      "text/plain": [
       "{'session1': [[[0, 1987],\n",
       "   \"F' D2 L2 F2 U2 F U2 B U2 R2 B D2 R D2 F2 D F' D2 B D2 U'\",\n",
       "   '',\n",
       "   1748513628],\n",
       "  [[0, 3368],\n",
       "   \"F2 D2 B2 U' B2 U' R2 D L2 U2 R2 F L F2 U2 L2 F' U L R D\",\n",
       "   '',\n",
       "   1748513757],\n",
       "  [[0, 538],\n",
       "   \"D' F' U' L2 U' R2 B2 D U2 R2 D2 L2 U' B U2 R F2 D U2 R U'\",\n",
       "   '',\n",
       "   1748513798],\n",
       "  [[0, 409],\n",
       "   \"U L2 D' B2 R2 U2 B2 U R2 B2 D L2 F R' D B' U2 L' U2 R\",\n",
       "   '',\n",
       "   1748513799],\n",
       "  [[0, 1089],\n",
       "   \"F U B' D' L' D L' B' R F' R2 U2 D2 F B2 L2 B' L2 B'\",\n",
       "   '',\n",
       "   1748513800],\n",
       "  [[0, 715],\n",
       "   \"F2 D R2 U' B2 U F2 R2 U' R2 D2 R B F2 L2 D2 B2 D2 U F2 L\",\n",
       "   '',\n",
       "   1748513806],\n",
       "  [[0, 3472],\n",
       "   'UR1- DR1- DL5- UL3+ U5- R3- D6+ L2- ALL5+ y2 U1+ R2+ D2+ L3+ ALL6+',\n",
       "   '',\n",
       "   1748514303]],\n",
       " 'session2': [],\n",
       " 'session3': [],\n",
       " 'session4': [],\n",
       " 'session5': [],\n",
       " 'session6': [],\n",
       " 'session7': [],\n",
       " 'session8': [],\n",
       " 'session9': [],\n",
       " 'session10': [],\n",
       " 'session11': [],\n",
       " 'session12': [],\n",
       " 'session13': [],\n",
       " 'session14': [],\n",
       " 'session15': [],\n",
       " 'properties': {'sessionData': '{\"1\":{\"name\":\"Kasi\",\"opt\":{\"scrType\":\"clkwca\"},\"rank\":1,\"stat\":[7,0,1647.142857142857],\"date\":[1748513628,1748514303]},\"2\":{\"name\":2,\"opt\":{},\"rank\":2},\"3\":{\"name\":3,\"opt\":{},\"rank\":3},\"4\":{\"name\":4,\"opt\":{},\"rank\":4},\"5\":{\"name\":5,\"opt\":{},\"rank\":5},\"6\":{\"name\":6,\"opt\":{},\"rank\":6},\"7\":{\"name\":7,\"opt\":{},\"rank\":7},\"8\":{\"name\":8,\"opt\":{},\"rank\":8},\"9\":{\"name\":9,\"opt\":{},\"rank\":9},\"10\":{\"name\":10,\"opt\":{},\"rank\":10},\"11\":{\"name\":11,\"opt\":{},\"rank\":11},\"12\":{\"name\":12,\"opt\":{},\"rank\":12},\"13\":{\"name\":13,\"opt\":{},\"rank\":13},\"14\":{\"name\":14,\"opt\":{},\"rank\":14},\"15\":{\"name\":15,\"opt\":{},\"rank\":15}}',\n",
       "  'scrFlt': '[\"clkwca\",null]',\n",
       "  'scrType': 'clkwca'}}"
      ]
     },
     "execution_count": 28,
     "metadata": {},
     "output_type": "execute_result"
    }
   ],
   "source": [
    "data"
   ]
  },
  {
   "cell_type": "code",
   "execution_count": 29,
   "id": "5ffe28d5",
   "metadata": {},
   "outputs": [],
   "source": [
    "session1solves = data['session1']"
   ]
  },
  {
   "cell_type": "code",
   "execution_count": 30,
   "id": "08e2a48a",
   "metadata": {},
   "outputs": [
    {
     "data": {
      "text/plain": [
       "[[[0, 1987],\n",
       "  \"F' D2 L2 F2 U2 F U2 B U2 R2 B D2 R D2 F2 D F' D2 B D2 U'\",\n",
       "  '',\n",
       "  1748513628],\n",
       " [[0, 3368],\n",
       "  \"F2 D2 B2 U' B2 U' R2 D L2 U2 R2 F L F2 U2 L2 F' U L R D\",\n",
       "  '',\n",
       "  1748513757],\n",
       " [[0, 538],\n",
       "  \"D' F' U' L2 U' R2 B2 D U2 R2 D2 L2 U' B U2 R F2 D U2 R U'\",\n",
       "  '',\n",
       "  1748513798],\n",
       " [[0, 409],\n",
       "  \"U L2 D' B2 R2 U2 B2 U R2 B2 D L2 F R' D B' U2 L' U2 R\",\n",
       "  '',\n",
       "  1748513799],\n",
       " [[0, 1089],\n",
       "  \"F U B' D' L' D L' B' R F' R2 U2 D2 F B2 L2 B' L2 B'\",\n",
       "  '',\n",
       "  1748513800],\n",
       " [[0, 715],\n",
       "  \"F2 D R2 U' B2 U F2 R2 U' R2 D2 R B F2 L2 D2 B2 D2 U F2 L\",\n",
       "  '',\n",
       "  1748513806],\n",
       " [[0, 3472],\n",
       "  'UR1- DR1- DL5- UL3+ U5- R3- D6+ L2- ALL5+ y2 U1+ R2+ D2+ L3+ ALL6+',\n",
       "  '',\n",
       "  1748514303]]"
      ]
     },
     "execution_count": 30,
     "metadata": {},
     "output_type": "execute_result"
    }
   ],
   "source": [
    "session1solves"
   ]
  },
  {
   "cell_type": "code",
   "execution_count": 31,
   "id": "c47a93bc",
   "metadata": {},
   "outputs": [
    {
     "data": {
      "text/plain": [
       "7"
      ]
     },
     "execution_count": 31,
     "metadata": {},
     "output_type": "execute_result"
    }
   ],
   "source": [
    "len(session1solves)"
   ]
  },
  {
   "cell_type": "code",
   "execution_count": 10,
   "id": "3d8adc10",
   "metadata": {},
   "outputs": [],
   "source": [
    "class solve:\n",
    "    def __init__(self, time, date, scramble, penalty):\n",
    "        self.time = time\n",
    "        self.date = date\n",
    "        self.scramble = scramble\n",
    "        self.penalty = penalty\n",
    "        \n",
    "    def info(self):\n",
    "        "
   ]
  },
  {
   "cell_type": "code",
   "execution_count": 11,
   "id": "93d2b392",
   "metadata": {},
   "outputs": [],
   "source": [
    "import datetime\n",
    "\n",
    "def UnicodeToTime(timestamp):\n",
    "    dt = datetime.datetime.fromtimestamp(timestamp)\n",
    "    return(dt.strftime('%Y-%m-%d %H:%M:%S'))"
   ]
  },
  {
   "cell_type": "code",
   "execution_count": 13,
   "id": "e4e3fdc0",
   "metadata": {},
   "outputs": [
    {
     "data": {
      "text/plain": [
       "[[0, 1987],\n",
       " \"F' D2 L2 F2 U2 F U2 B U2 R2 B D2 R D2 F2 D F' D2 B D2 U'\",\n",
       " '',\n",
       " 1748513628]"
      ]
     },
     "execution_count": 13,
     "metadata": {},
     "output_type": "execute_result"
    }
   ],
   "source": [
    "session1solves[0]"
   ]
  },
  {
   "cell_type": "code",
   "execution_count": 32,
   "id": "e8b3ea5f",
   "metadata": {},
   "outputs": [
    {
     "name": "stdout",
     "output_type": "stream",
     "text": [
      "Solve Number 1\n",
      "Penalty: 0\n",
      "Time: 1.987000 seconds\n",
      "Scramble: F' D2 L2 F2 U2 F U2 B U2 R2 B D2 R D2 F2 D F' D2 B D2 U'\n",
      "Date: 2025-05-29 15:43:48\n",
      "\n",
      "Solve Number 2\n",
      "Penalty: 0\n",
      "Time: 3.368000 seconds\n",
      "Scramble: F2 D2 B2 U' B2 U' R2 D L2 U2 R2 F L F2 U2 L2 F' U L R D\n",
      "Date: 2025-05-29 15:45:57\n",
      "\n",
      "Solve Number 3\n",
      "Penalty: 0\n",
      "Time: 0.538000 seconds\n",
      "Scramble: D' F' U' L2 U' R2 B2 D U2 R2 D2 L2 U' B U2 R F2 D U2 R U'\n",
      "Date: 2025-05-29 15:46:38\n",
      "\n",
      "Solve Number 4\n",
      "Penalty: 0\n",
      "Time: 0.409000 seconds\n",
      "Scramble: U L2 D' B2 R2 U2 B2 U R2 B2 D L2 F R' D B' U2 L' U2 R\n",
      "Date: 2025-05-29 15:46:39\n",
      "\n",
      "Solve Number 5\n",
      "Penalty: 0\n",
      "Time: 1.089000 seconds\n",
      "Scramble: F U B' D' L' D L' B' R F' R2 U2 D2 F B2 L2 B' L2 B'\n",
      "Date: 2025-05-29 15:46:40\n",
      "\n",
      "Solve Number 6\n",
      "Penalty: 0\n",
      "Time: 0.715000 seconds\n",
      "Scramble: F2 D R2 U' B2 U F2 R2 U' R2 D2 R B F2 L2 D2 B2 D2 U F2 L\n",
      "Date: 2025-05-29 15:46:46\n",
      "\n",
      "Solve Number 7\n",
      "Penalty: 0\n",
      "Time: 3.472000 seconds\n",
      "Scramble: UR1- DR1- DL5- UL3+ U5- R3- D6+ L2- ALL5+ y2 U1+ R2+ D2+ L3+ ALL6+\n",
      "Date: 2025-05-29 15:55:03\n",
      "\n"
     ]
    }
   ],
   "source": [
    "for k, i in enumerate(session1solves):\n",
    "    print(\"Solve Number %i\"%(k+1))\n",
    "    print(\"Penalty: %i\"%i[0][0])\n",
    "    print(\"Time: %f seconds\"%(i[0][1]/1000))\n",
    "    print(\"Scramble: %s\"%i[1])\n",
    "    print(\"Date: %s\"%(UnicodeToTime(int(i[3]))))\n",
    "    print(\"\")"
   ]
  },
  {
   "cell_type": "code",
   "execution_count": 22,
   "id": "ccca8f7b",
   "metadata": {},
   "outputs": [],
   "source": [
    "i = session1solves[0]"
   ]
  },
  {
   "cell_type": "code",
   "execution_count": 27,
   "id": "0c383887",
   "metadata": {},
   "outputs": [
    {
     "data": {
      "text/plain": [
       "''"
      ]
     },
     "execution_count": 27,
     "metadata": {},
     "output_type": "execute_result"
    }
   ],
   "source": [
    "i[2]"
   ]
  },
  {
   "cell_type": "code",
   "execution_count": 33,
   "id": "aca86a6d",
   "metadata": {},
   "outputs": [
    {
     "data": {
      "text/plain": [
       "{'session1': [[[0, 1987],\n",
       "   \"F' D2 L2 F2 U2 F U2 B U2 R2 B D2 R D2 F2 D F' D2 B D2 U'\",\n",
       "   '',\n",
       "   1748513628],\n",
       "  [[0, 3368],\n",
       "   \"F2 D2 B2 U' B2 U' R2 D L2 U2 R2 F L F2 U2 L2 F' U L R D\",\n",
       "   '',\n",
       "   1748513757],\n",
       "  [[0, 538],\n",
       "   \"D' F' U' L2 U' R2 B2 D U2 R2 D2 L2 U' B U2 R F2 D U2 R U'\",\n",
       "   '',\n",
       "   1748513798],\n",
       "  [[0, 409],\n",
       "   \"U L2 D' B2 R2 U2 B2 U R2 B2 D L2 F R' D B' U2 L' U2 R\",\n",
       "   '',\n",
       "   1748513799],\n",
       "  [[0, 1089],\n",
       "   \"F U B' D' L' D L' B' R F' R2 U2 D2 F B2 L2 B' L2 B'\",\n",
       "   '',\n",
       "   1748513800],\n",
       "  [[0, 715],\n",
       "   \"F2 D R2 U' B2 U F2 R2 U' R2 D2 R B F2 L2 D2 B2 D2 U F2 L\",\n",
       "   '',\n",
       "   1748513806],\n",
       "  [[0, 3472],\n",
       "   'UR1- DR1- DL5- UL3+ U5- R3- D6+ L2- ALL5+ y2 U1+ R2+ D2+ L3+ ALL6+',\n",
       "   '',\n",
       "   1748514303]],\n",
       " 'session2': [],\n",
       " 'session3': [],\n",
       " 'session4': [],\n",
       " 'session5': [],\n",
       " 'session6': [],\n",
       " 'session7': [],\n",
       " 'session8': [],\n",
       " 'session9': [],\n",
       " 'session10': [],\n",
       " 'session11': [],\n",
       " 'session12': [],\n",
       " 'session13': [],\n",
       " 'session14': [],\n",
       " 'session15': [],\n",
       " 'properties': {'sessionData': '{\"1\":{\"name\":\"Kasi\",\"opt\":{\"scrType\":\"clkwca\"},\"rank\":1,\"stat\":[7,0,1647.142857142857],\"date\":[1748513628,1748514303]},\"2\":{\"name\":2,\"opt\":{},\"rank\":2},\"3\":{\"name\":3,\"opt\":{},\"rank\":3},\"4\":{\"name\":4,\"opt\":{},\"rank\":4},\"5\":{\"name\":5,\"opt\":{},\"rank\":5},\"6\":{\"name\":6,\"opt\":{},\"rank\":6},\"7\":{\"name\":7,\"opt\":{},\"rank\":7},\"8\":{\"name\":8,\"opt\":{},\"rank\":8},\"9\":{\"name\":9,\"opt\":{},\"rank\":9},\"10\":{\"name\":10,\"opt\":{},\"rank\":10},\"11\":{\"name\":11,\"opt\":{},\"rank\":11},\"12\":{\"name\":12,\"opt\":{},\"rank\":12},\"13\":{\"name\":13,\"opt\":{},\"rank\":13},\"14\":{\"name\":14,\"opt\":{},\"rank\":14},\"15\":{\"name\":15,\"opt\":{},\"rank\":15}}',\n",
       "  'scrFlt': '[\"clkwca\",null]',\n",
       "  'scrType': 'clkwca'}}"
      ]
     },
     "execution_count": 33,
     "metadata": {},
     "output_type": "execute_result"
    }
   ],
   "source": [
    "data"
   ]
  },
  {
   "cell_type": "code",
   "execution_count": 35,
   "id": "7d5e19b4",
   "metadata": {},
   "outputs": [
    {
     "data": {
      "text/plain": [
       "'2025-05-29 15:55:03'"
      ]
     },
     "execution_count": 35,
     "metadata": {},
     "output_type": "execute_result"
    }
   ],
   "source": [
    "UnicodeToTime(1748514303)"
   ]
  },
  {
   "cell_type": "code",
   "execution_count": 36,
   "id": "1d871997",
   "metadata": {},
   "outputs": [
    {
     "data": {
      "text/plain": [
       "16"
      ]
     },
     "execution_count": 36,
     "metadata": {},
     "output_type": "execute_result"
    }
   ],
   "source": [
    "len(data)"
   ]
  },
  {
   "cell_type": "code",
   "execution_count": 33,
   "id": "17679594",
   "metadata": {},
   "outputs": [],
   "source": [
    "from utils import preprocess_solves"
   ]
  },
  {
   "cell_type": "code",
   "execution_count": 34,
   "id": "f15e1d54",
   "metadata": {},
   "outputs": [
    {
     "ename": "ModuleNotFoundError",
     "evalue": "No module named 'preprocess_solves'",
     "output_type": "error",
     "traceback": [
      "\u001b[1;31m---------------------------------------------------------------------------\u001b[0m",
      "\u001b[1;31mModuleNotFoundError\u001b[0m                       Traceback (most recent call last)",
      "Cell \u001b[1;32mIn[34], line 1\u001b[0m\n\u001b[1;32m----> 1\u001b[0m \u001b[38;5;28;01mfrom\u001b[39;00m \u001b[38;5;21;01mpreprocess_solves\u001b[39;00m \u001b[38;5;28;01mimport\u001b[39;00m \u001b[38;5;241m*\u001b[39m\n",
      "\u001b[1;31mModuleNotFoundError\u001b[0m: No module named 'preprocess_solves'"
     ]
    }
   ],
   "source": [
    "from preprocess_solves import *"
   ]
  },
  {
   "cell_type": "code",
   "execution_count": 35,
   "id": "0c52b5c6",
   "metadata": {},
   "outputs": [
    {
     "data": {
      "text/plain": [
       "<module 'utils.preprocess_solves' from 'C:\\\\Users\\\\rishi\\\\OneDrive\\\\Documents\\\\Coding\\\\YRRoundup\\\\backend\\\\utils\\\\preprocess_solves.py'>"
      ]
     },
     "execution_count": 35,
     "metadata": {},
     "output_type": "execute_result"
    }
   ],
   "source": [
    "preprocess_solves"
   ]
  },
  {
   "cell_type": "code",
   "execution_count": 36,
   "id": "cf2fcbca",
   "metadata": {},
   "outputs": [
    {
     "ename": "NameError",
     "evalue": "name 'Solve' is not defined",
     "output_type": "error",
     "traceback": [
      "\u001b[1;31m---------------------------------------------------------------------------\u001b[0m",
      "\u001b[1;31mNameError\u001b[0m                                 Traceback (most recent call last)",
      "Cell \u001b[1;32mIn[36], line 1\u001b[0m\n\u001b[1;32m----> 1\u001b[0m \u001b[43mSolve\u001b[49m\n",
      "\u001b[1;31mNameError\u001b[0m: name 'Solve' is not defined"
     ]
    }
   ],
   "source": [
    "Solve"
   ]
  },
  {
   "cell_type": "code",
   "execution_count": 37,
   "id": "0c341a03",
   "metadata": {},
   "outputs": [
    {
     "ename": "NameError",
     "evalue": "name 'Session' is not defined",
     "output_type": "error",
     "traceback": [
      "\u001b[1;31m---------------------------------------------------------------------------\u001b[0m",
      "\u001b[1;31mNameError\u001b[0m                                 Traceback (most recent call last)",
      "Cell \u001b[1;32mIn[37], line 1\u001b[0m\n\u001b[1;32m----> 1\u001b[0m \u001b[43mSession\u001b[49m\n",
      "\u001b[1;31mNameError\u001b[0m: name 'Session' is not defined"
     ]
    }
   ],
   "source": [
    "Session"
   ]
  },
  {
   "cell_type": "code",
   "execution_count": null,
   "id": "ace8214f",
   "metadata": {},
   "outputs": [],
   "source": [
    "imp"
   ]
  }
 ],
 "metadata": {
  "kernelspec": {
   "display_name": "Python 3 (ipykernel)",
   "language": "python",
   "name": "python3"
  },
  "language_info": {
   "codemirror_mode": {
    "name": "ipython",
    "version": 3
   },
   "file_extension": ".py",
   "mimetype": "text/x-python",
   "name": "python",
   "nbconvert_exporter": "python",
   "pygments_lexer": "ipython3",
   "version": "3.11.1"
  }
 },
 "nbformat": 4,
 "nbformat_minor": 5
}
