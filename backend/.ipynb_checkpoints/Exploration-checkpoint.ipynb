{
 "cells": [
  {
   "cell_type": "code",
   "execution_count": 1,
   "id": "6ae1f4ae",
   "metadata": {},
   "outputs": [],
   "source": [
    "import json"
   ]
  },
  {
   "cell_type": "code",
   "execution_count": 6,
   "id": "f7f62324",
   "metadata": {},
   "outputs": [],
   "source": [
    "path = \"data/sample.txt\""
   ]
  },
  {
   "cell_type": "code",
   "execution_count": 7,
   "id": "91a2a5bc",
   "metadata": {},
   "outputs": [],
   "source": [
    "with open (path, 'r') as f:\n",
    "    data = json.load(f)"
   ]
  },
  {
   "cell_type": "code",
   "execution_count": 8,
   "id": "a15f6a14",
   "metadata": {},
   "outputs": [
    {
     "data": {
      "text/plain": [
       "{'session1': [[[0, 1987],\n",
       "   \"F' D2 L2 F2 U2 F U2 B U2 R2 B D2 R D2 F2 D F' D2 B D2 U'\",\n",
       "   '',\n",
       "   1748513628],\n",
       "  [[0, 3368],\n",
       "   \"F2 D2 B2 U' B2 U' R2 D L2 U2 R2 F L F2 U2 L2 F' U L R D\",\n",
       "   '',\n",
       "   1748513757],\n",
       "  [[0, 538],\n",
       "   \"D' F' U' L2 U' R2 B2 D U2 R2 D2 L2 U' B U2 R F2 D U2 R U'\",\n",
       "   '',\n",
       "   1748513798],\n",
       "  [[0, 409],\n",
       "   \"U L2 D' B2 R2 U2 B2 U R2 B2 D L2 F R' D B' U2 L' U2 R\",\n",
       "   '',\n",
       "   1748513799],\n",
       "  [[0, 1089],\n",
       "   \"F U B' D' L' D L' B' R F' R2 U2 D2 F B2 L2 B' L2 B'\",\n",
       "   '',\n",
       "   1748513800],\n",
       "  [[0, 715],\n",
       "   \"F2 D R2 U' B2 U F2 R2 U' R2 D2 R B F2 L2 D2 B2 D2 U F2 L\",\n",
       "   '',\n",
       "   1748513806],\n",
       "  [[0, 3472],\n",
       "   'UR1- DR1- DL5- UL3+ U5- R3- D6+ L2- ALL5+ y2 U1+ R2+ D2+ L3+ ALL6+',\n",
       "   '',\n",
       "   1748514303]],\n",
       " 'session2': [],\n",
       " 'session3': [],\n",
       " 'session4': [],\n",
       " 'session5': [],\n",
       " 'session6': [],\n",
       " 'session7': [],\n",
       " 'session8': [],\n",
       " 'session9': [],\n",
       " 'session10': [],\n",
       " 'session11': [],\n",
       " 'session12': [],\n",
       " 'session13': [],\n",
       " 'session14': [],\n",
       " 'session15': [],\n",
       " 'properties': {'sessionData': '{\"1\":{\"name\":\"Kasi\",\"opt\":{\"scrType\":\"clkwca\"},\"rank\":1,\"stat\":[7,0,1647.142857142857],\"date\":[1748513628,1748514303]},\"2\":{\"name\":2,\"opt\":{},\"rank\":2},\"3\":{\"name\":3,\"opt\":{},\"rank\":3},\"4\":{\"name\":4,\"opt\":{},\"rank\":4},\"5\":{\"name\":5,\"opt\":{},\"rank\":5},\"6\":{\"name\":6,\"opt\":{},\"rank\":6},\"7\":{\"name\":7,\"opt\":{},\"rank\":7},\"8\":{\"name\":8,\"opt\":{},\"rank\":8},\"9\":{\"name\":9,\"opt\":{},\"rank\":9},\"10\":{\"name\":10,\"opt\":{},\"rank\":10},\"11\":{\"name\":11,\"opt\":{},\"rank\":11},\"12\":{\"name\":12,\"opt\":{},\"rank\":12},\"13\":{\"name\":13,\"opt\":{},\"rank\":13},\"14\":{\"name\":14,\"opt\":{},\"rank\":14},\"15\":{\"name\":15,\"opt\":{},\"rank\":15}}',\n",
       "  'scrFlt': '[\"clkwca\",null]',\n",
       "  'scrType': 'clkwca'}}"
      ]
     },
     "execution_count": 8,
     "metadata": {},
     "output_type": "execute_result"
    }
   ],
   "source": [
    "data"
   ]
  },
  {
   "cell_type": "code",
   "execution_count": 9,
   "id": "5ffe28d5",
   "metadata": {},
   "outputs": [],
   "source": [
    "session1solves = data['session1']"
   ]
  },
  {
   "cell_type": "code",
   "execution_count": 10,
   "id": "08e2a48a",
   "metadata": {},
   "outputs": [
    {
     "data": {
      "text/plain": [
       "[[[0, 1987],\n",
       "  \"F' D2 L2 F2 U2 F U2 B U2 R2 B D2 R D2 F2 D F' D2 B D2 U'\",\n",
       "  '',\n",
       "  1748513628],\n",
       " [[0, 3368],\n",
       "  \"F2 D2 B2 U' B2 U' R2 D L2 U2 R2 F L F2 U2 L2 F' U L R D\",\n",
       "  '',\n",
       "  1748513757],\n",
       " [[0, 538],\n",
       "  \"D' F' U' L2 U' R2 B2 D U2 R2 D2 L2 U' B U2 R F2 D U2 R U'\",\n",
       "  '',\n",
       "  1748513798],\n",
       " [[0, 409],\n",
       "  \"U L2 D' B2 R2 U2 B2 U R2 B2 D L2 F R' D B' U2 L' U2 R\",\n",
       "  '',\n",
       "  1748513799],\n",
       " [[0, 1089],\n",
       "  \"F U B' D' L' D L' B' R F' R2 U2 D2 F B2 L2 B' L2 B'\",\n",
       "  '',\n",
       "  1748513800],\n",
       " [[0, 715],\n",
       "  \"F2 D R2 U' B2 U F2 R2 U' R2 D2 R B F2 L2 D2 B2 D2 U F2 L\",\n",
       "  '',\n",
       "  1748513806],\n",
       " [[0, 3472],\n",
       "  'UR1- DR1- DL5- UL3+ U5- R3- D6+ L2- ALL5+ y2 U1+ R2+ D2+ L3+ ALL6+',\n",
       "  '',\n",
       "  1748514303]]"
      ]
     },
     "execution_count": 10,
     "metadata": {},
     "output_type": "execute_result"
    }
   ],
   "source": [
    "session1solves"
   ]
  },
  {
   "cell_type": "code",
   "execution_count": 11,
   "id": "c47a93bc",
   "metadata": {},
   "outputs": [
    {
     "data": {
      "text/plain": [
       "7"
      ]
     },
     "execution_count": 11,
     "metadata": {},
     "output_type": "execute_result"
    }
   ],
   "source": [
    "len(session1solves)"
   ]
  },
  {
   "cell_type": "code",
   "execution_count": 12,
   "id": "3d8adc10",
   "metadata": {},
   "outputs": [
    {
     "ename": "SyntaxError",
     "evalue": "incomplete input (2301174909.py, line 9)",
     "output_type": "error",
     "traceback": [
      "\u001b[1;36m  Cell \u001b[1;32mIn[12], line 9\u001b[1;36m\u001b[0m\n\u001b[1;33m    \u001b[0m\n\u001b[1;37m    ^\u001b[0m\n\u001b[1;31mSyntaxError\u001b[0m\u001b[1;31m:\u001b[0m incomplete input\n"
     ]
    }
   ],
   "source": [
    "class solve:\n",
    "    def __init__(self, time, date, scramble, penalty):\n",
    "        self.time = time\n",
    "        self.date = date\n",
    "        self.scramble = scramble\n",
    "        self.penalty = penalty\n",
    "        \n",
    "    def info(self):\n",
    "        "
   ]
  },
  {
   "cell_type": "code",
   "execution_count": 11,
   "id": "93d2b392",
   "metadata": {},
   "outputs": [],
   "source": [
    "import datetime\n",
    "\n",
    "def UnicodeToTime(timestamp):\n",
    "    dt = datetime.datetime.fromtimestamp(timestamp)\n",
    "    return(dt.strftime('%Y-%m-%d %H:%M:%S'))"
   ]
  },
  {
   "cell_type": "code",
   "execution_count": 13,
   "id": "e4e3fdc0",
   "metadata": {},
   "outputs": [
    {
     "data": {
      "text/plain": [
       "[[0, 1987],\n",
       " \"F' D2 L2 F2 U2 F U2 B U2 R2 B D2 R D2 F2 D F' D2 B D2 U'\",\n",
       " '',\n",
       " 1748513628]"
      ]
     },
     "execution_count": 13,
     "metadata": {},
     "output_type": "execute_result"
    }
   ],
   "source": [
    "session1solves[0]"
   ]
  },
  {
   "cell_type": "code",
   "execution_count": 32,
   "id": "e8b3ea5f",
   "metadata": {},
   "outputs": [
    {
     "name": "stdout",
     "output_type": "stream",
     "text": [
      "Solve Number 1\n",
      "Penalty: 0\n",
      "Time: 1.987000 seconds\n",
      "Scramble: F' D2 L2 F2 U2 F U2 B U2 R2 B D2 R D2 F2 D F' D2 B D2 U'\n",
      "Date: 2025-05-29 15:43:48\n",
      "\n",
      "Solve Number 2\n",
      "Penalty: 0\n",
      "Time: 3.368000 seconds\n",
      "Scramble: F2 D2 B2 U' B2 U' R2 D L2 U2 R2 F L F2 U2 L2 F' U L R D\n",
      "Date: 2025-05-29 15:45:57\n",
      "\n",
      "Solve Number 3\n",
      "Penalty: 0\n",
      "Time: 0.538000 seconds\n",
      "Scramble: D' F' U' L2 U' R2 B2 D U2 R2 D2 L2 U' B U2 R F2 D U2 R U'\n",
      "Date: 2025-05-29 15:46:38\n",
      "\n",
      "Solve Number 4\n",
      "Penalty: 0\n",
      "Time: 0.409000 seconds\n",
      "Scramble: U L2 D' B2 R2 U2 B2 U R2 B2 D L2 F R' D B' U2 L' U2 R\n",
      "Date: 2025-05-29 15:46:39\n",
      "\n",
      "Solve Number 5\n",
      "Penalty: 0\n",
      "Time: 1.089000 seconds\n",
      "Scramble: F U B' D' L' D L' B' R F' R2 U2 D2 F B2 L2 B' L2 B'\n",
      "Date: 2025-05-29 15:46:40\n",
      "\n",
      "Solve Number 6\n",
      "Penalty: 0\n",
      "Time: 0.715000 seconds\n",
      "Scramble: F2 D R2 U' B2 U F2 R2 U' R2 D2 R B F2 L2 D2 B2 D2 U F2 L\n",
      "Date: 2025-05-29 15:46:46\n",
      "\n",
      "Solve Number 7\n",
      "Penalty: 0\n",
      "Time: 3.472000 seconds\n",
      "Scramble: UR1- DR1- DL5- UL3+ U5- R3- D6+ L2- ALL5+ y2 U1+ R2+ D2+ L3+ ALL6+\n",
      "Date: 2025-05-29 15:55:03\n",
      "\n"
     ]
    }
   ],
   "source": [
    "for k, i in enumerate(session1solves):\n",
    "    print(\"Solve Number %i\"%(k+1))\n",
    "    print(\"Penalty: %i\"%i[0][0])\n",
    "    print(\"Time: %f seconds\"%(i[0][1]/1000))\n",
    "    print(\"Scramble: %s\"%i[1])\n",
    "    print(\"Date: %s\"%(UnicodeToTime(int(i[3]))))\n",
    "    print(\"\")"
   ]
  },
  {
   "cell_type": "code",
   "execution_count": 22,
   "id": "ccca8f7b",
   "metadata": {},
   "outputs": [],
   "source": [
    "i = session1solves[0]"
   ]
  },
  {
   "cell_type": "code",
   "execution_count": 27,
   "id": "0c383887",
   "metadata": {},
   "outputs": [
    {
     "data": {
      "text/plain": [
       "''"
      ]
     },
     "execution_count": 27,
     "metadata": {},
     "output_type": "execute_result"
    }
   ],
   "source": [
    "i[2]"
   ]
  },
  {
   "cell_type": "code",
   "execution_count": 33,
   "id": "aca86a6d",
   "metadata": {},
   "outputs": [
    {
     "data": {
      "text/plain": [
       "{'session1': [[[0, 1987],\n",
       "   \"F' D2 L2 F2 U2 F U2 B U2 R2 B D2 R D2 F2 D F' D2 B D2 U'\",\n",
       "   '',\n",
       "   1748513628],\n",
       "  [[0, 3368],\n",
       "   \"F2 D2 B2 U' B2 U' R2 D L2 U2 R2 F L F2 U2 L2 F' U L R D\",\n",
       "   '',\n",
       "   1748513757],\n",
       "  [[0, 538],\n",
       "   \"D' F' U' L2 U' R2 B2 D U2 R2 D2 L2 U' B U2 R F2 D U2 R U'\",\n",
       "   '',\n",
       "   1748513798],\n",
       "  [[0, 409],\n",
       "   \"U L2 D' B2 R2 U2 B2 U R2 B2 D L2 F R' D B' U2 L' U2 R\",\n",
       "   '',\n",
       "   1748513799],\n",
       "  [[0, 1089],\n",
       "   \"F U B' D' L' D L' B' R F' R2 U2 D2 F B2 L2 B' L2 B'\",\n",
       "   '',\n",
       "   1748513800],\n",
       "  [[0, 715],\n",
       "   \"F2 D R2 U' B2 U F2 R2 U' R2 D2 R B F2 L2 D2 B2 D2 U F2 L\",\n",
       "   '',\n",
       "   1748513806],\n",
       "  [[0, 3472],\n",
       "   'UR1- DR1- DL5- UL3+ U5- R3- D6+ L2- ALL5+ y2 U1+ R2+ D2+ L3+ ALL6+',\n",
       "   '',\n",
       "   1748514303]],\n",
       " 'session2': [],\n",
       " 'session3': [],\n",
       " 'session4': [],\n",
       " 'session5': [],\n",
       " 'session6': [],\n",
       " 'session7': [],\n",
       " 'session8': [],\n",
       " 'session9': [],\n",
       " 'session10': [],\n",
       " 'session11': [],\n",
       " 'session12': [],\n",
       " 'session13': [],\n",
       " 'session14': [],\n",
       " 'session15': [],\n",
       " 'properties': {'sessionData': '{\"1\":{\"name\":\"Kasi\",\"opt\":{\"scrType\":\"clkwca\"},\"rank\":1,\"stat\":[7,0,1647.142857142857],\"date\":[1748513628,1748514303]},\"2\":{\"name\":2,\"opt\":{},\"rank\":2},\"3\":{\"name\":3,\"opt\":{},\"rank\":3},\"4\":{\"name\":4,\"opt\":{},\"rank\":4},\"5\":{\"name\":5,\"opt\":{},\"rank\":5},\"6\":{\"name\":6,\"opt\":{},\"rank\":6},\"7\":{\"name\":7,\"opt\":{},\"rank\":7},\"8\":{\"name\":8,\"opt\":{},\"rank\":8},\"9\":{\"name\":9,\"opt\":{},\"rank\":9},\"10\":{\"name\":10,\"opt\":{},\"rank\":10},\"11\":{\"name\":11,\"opt\":{},\"rank\":11},\"12\":{\"name\":12,\"opt\":{},\"rank\":12},\"13\":{\"name\":13,\"opt\":{},\"rank\":13},\"14\":{\"name\":14,\"opt\":{},\"rank\":14},\"15\":{\"name\":15,\"opt\":{},\"rank\":15}}',\n",
       "  'scrFlt': '[\"clkwca\",null]',\n",
       "  'scrType': 'clkwca'}}"
      ]
     },
     "execution_count": 33,
     "metadata": {},
     "output_type": "execute_result"
    }
   ],
   "source": [
    "data"
   ]
  },
  {
   "cell_type": "code",
   "execution_count": 35,
   "id": "7d5e19b4",
   "metadata": {},
   "outputs": [
    {
     "data": {
      "text/plain": [
       "'2025-05-29 15:55:03'"
      ]
     },
     "execution_count": 35,
     "metadata": {},
     "output_type": "execute_result"
    }
   ],
   "source": [
    "UnicodeToTime(1748514303)"
   ]
  },
  {
   "cell_type": "code",
   "execution_count": 36,
   "id": "1d871997",
   "metadata": {},
   "outputs": [
    {
     "data": {
      "text/plain": [
       "16"
      ]
     },
     "execution_count": 36,
     "metadata": {},
     "output_type": "execute_result"
    }
   ],
   "source": [
    "len(data)"
   ]
  },
  {
   "cell_type": "code",
   "execution_count": 13,
   "id": "17679594",
   "metadata": {},
   "outputs": [],
   "source": [
    "from utils import preprocess_solves"
   ]
  },
  {
   "cell_type": "code",
   "execution_count": 14,
   "id": "23dfada1",
   "metadata": {},
   "outputs": [
    {
     "ename": "ModuleNotFoundError",
     "evalue": "No module named 'preprocess_solves'",
     "output_type": "error",
     "traceback": [
      "\u001b[1;31m---------------------------------------------------------------------------\u001b[0m",
      "\u001b[1;31mModuleNotFoundError\u001b[0m                       Traceback (most recent call last)",
      "Cell \u001b[1;32mIn[14], line 1\u001b[0m\n\u001b[1;32m----> 1\u001b[0m \u001b[38;5;28;01mfrom\u001b[39;00m \u001b[38;5;21;01mpreprocess_solves\u001b[39;00m \u001b[38;5;28;01mimport\u001b[39;00m Solve\n",
      "\u001b[1;31mModuleNotFoundError\u001b[0m: No module named 'preprocess_solves'"
     ]
    }
   ],
   "source": [
    "from preprocess_solves import Solve"
   ]
  },
  {
   "cell_type": "code",
   "execution_count": 15,
   "id": "80c5f8d8",
   "metadata": {},
   "outputs": [
    {
     "ename": "NameError",
     "evalue": "name 'Solve' is not defined",
     "output_type": "error",
     "traceback": [
      "\u001b[1;31m---------------------------------------------------------------------------\u001b[0m",
      "\u001b[1;31mNameError\u001b[0m                                 Traceback (most recent call last)",
      "Cell \u001b[1;32mIn[15], line 1\u001b[0m\n\u001b[1;32m----> 1\u001b[0m \u001b[43mSolve\u001b[49m\n",
      "\u001b[1;31mNameError\u001b[0m: name 'Solve' is not defined"
     ]
    }
   ],
   "source": [
    "Solve"
   ]
  },
  {
   "cell_type": "code",
   "execution_count": 16,
   "id": "e8f32c3f",
   "metadata": {},
   "outputs": [
    {
     "ename": "ModuleNotFoundError",
     "evalue": "No module named 'utils.preprocess_solves.Solve'; 'utils.preprocess_solves' is not a package",
     "output_type": "error",
     "traceback": [
      "\u001b[1;31m---------------------------------------------------------------------------\u001b[0m",
      "\u001b[1;31mModuleNotFoundError\u001b[0m                       Traceback (most recent call last)",
      "Cell \u001b[1;32mIn[16], line 1\u001b[0m\n\u001b[1;32m----> 1\u001b[0m \u001b[38;5;28;01mimport\u001b[39;00m \u001b[38;5;21;01mutils\u001b[39;00m\u001b[38;5;21;01m.\u001b[39;00m\u001b[38;5;21;01mpreprocess_solves\u001b[39;00m\u001b[38;5;21;01m.\u001b[39;00m\u001b[38;5;21;01mSolve\u001b[39;00m\n",
      "\u001b[1;31mModuleNotFoundError\u001b[0m: No module named 'utils.preprocess_solves.Solve'; 'utils.preprocess_solves' is not a package"
     ]
    }
   ],
   "source": [
    "import utils.preprocess_solves.Solve"
   ]
  },
  {
   "cell_type": "code",
   "execution_count": 17,
   "id": "bdec7325",
   "metadata": {},
   "outputs": [],
   "source": [
    "import utils.preprocess_solves as ps"
   ]
  },
  {
   "cell_type": "code",
   "execution_count": 18,
   "id": "d211f11c",
   "metadata": {},
   "outputs": [
    {
     "data": {
      "text/plain": [
       "<module 'utils.preprocess_solves' from 'C:\\\\Users\\\\rishi\\\\OneDrive\\\\Documents\\\\Coding\\\\YRRoundup\\\\backend\\\\utils\\\\preprocess_solves.py'>"
      ]
     },
     "execution_count": 18,
     "metadata": {},
     "output_type": "execute_result"
    }
   ],
   "source": [
    "ps"
   ]
  },
  {
   "cell_type": "code",
   "execution_count": 19,
   "id": "90bcf9bb",
   "metadata": {},
   "outputs": [
    {
     "data": {
      "text/plain": [
       "utils.preprocess_solves.Solve"
      ]
     },
     "execution_count": 19,
     "metadata": {},
     "output_type": "execute_result"
    }
   ],
   "source": [
    "ps.Solve"
   ]
  },
  {
   "cell_type": "code",
   "execution_count": 20,
   "id": "0e9213ad",
   "metadata": {},
   "outputs": [],
   "source": [
    "sessions = ps.load_all_sessions(\"data/real.txt\")"
   ]
  },
  {
   "cell_type": "code",
   "execution_count": 21,
   "id": "14ada24f",
   "metadata": {},
   "outputs": [
    {
     "data": {
      "text/plain": [
       "[Session: Session 3x3, Solves: 10500 for 3x3, ID: 1, Multiple Events: False,\n",
       " Session: Session 2x2, Solves: 607 for 222so, ID: 2, Multiple Events: False,\n",
       " Session: Session 3x3 OH, Solves: 953 for 333oh, ID: 3, Multiple Events: False,\n",
       " Session: Session 3BLD, Solves: 35 for 333ni, ID: 4, Multiple Events: False,\n",
       " Session: Session Skewb, Solves: 271 for skbso, ID: 5, Multiple Events: False,\n",
       " Session: Session Square 1, Solves: 4132 for sqrs, ID: 6, Multiple Events: False,\n",
       " Session: Session Pyraminx, Solves: 75 for pyrso, ID: 7, Multiple Events: False,\n",
       " Session: Session 4x4, Solves: 904 for 444wca, ID: 8, Multiple Events: False,\n",
       " Session: Session Virtual Cube, Solves: 1257 for 3x3, ID: 9, Multiple Events: False,\n",
       " Session: Session 1.23 333, Solves: 58 for 3x3, ID: 10, Multiple Events: False,\n",
       " Session: Session sub 8.5, Solves: 3 for 3x3, ID: 11, Multiple Events: False,\n",
       " Session: Session 1.22 333oh, Solves: 5 for 3x3, ID: 12, Multiple Events: False,\n",
       " Session: Session getting sub 17, Solves: 27 for 333oh, ID: 13, Multiple Events: False,\n",
       " Session: Session 3x3 Slow Turning, Solves: 143 for 3x3, ID: 14, Multiple Events: False,\n",
       " Session: Session grind, Solves: 5 for 3x3, ID: 15, Multiple Events: False,\n",
       " Session: Session sub 9 until, Solves: 7 for 3x3, ID: 16, Multiple Events: False,\n",
       " Session: Session COMP SIM, Solves: 25 for 444wca, ID: 17, Multiple Events: False,\n",
       " Session: Session FMC, Solves: 0 for 333fm, ID: 18, Multiple Events: False,\n",
       " Session: Session 2024, Solves: 1 for 3x3, ID: 19, Multiple Events: False,\n",
       " Session: Session 12.25 333, Solves: 5 for 3x3, ID: 20, Multiple Events: False,\n",
       " Session: Session 12.24 333, Solves: 33 for sqrs, ID: 21, Multiple Events: False,\n",
       " Session: Session ao5 in every event, Solves: 21 for 222so, ID: 22, Multiple Events: False,\n",
       " Session: Session compsim, Solves: 28 for 3x3, ID: 23, Multiple Events: False,\n",
       " Session: Session rvitm, Solves: 34 for sqrs, ID: 24, Multiple Events: False,\n",
       " Session: Session 5x5, Solves: 278 for 555wca, ID: 25, Multiple Events: False,\n",
       " Session: Session sub 9, Solves: 9 for 3x3, ID: 26, Multiple Events: False,\n",
       " Session: Session 17thdec, Solves: 23 for sqrs, ID: 27, Multiple Events: False,\n",
       " Session: Session sq1 splits, Solves: 8 for sqrs, ID: 28, Multiple Events: False,\n",
       " Session: Session fell off, Solves: 19 for 3x3, ID: 29, Multiple Events: False,\n",
       " Session: Session sub 15 grind, Solves: 13 for sqrs, ID: 30, Multiple Events: False,\n",
       " Session: Session 12.9 333, Solves: 10 for 333fm, ID: 31, Multiple Events: False,\n",
       " Session: Session 12.9 333, Solves: 7 for 3x3, ID: 32, Multiple Events: False,\n",
       " Session: Session 12.7 333, Solves: 6 for 3x3, ID: 33, Multiple Events: False,\n",
       " Session: Session kasi tea, Solves: 29 for 3x3, ID: 34, Multiple Events: False,\n",
       " Session: Session 11.18 mgmp, Solves: 5 for 3x3, ID: 35, Multiple Events: False,\n",
       " Session: Session 11.1 333, Solves: 0 for mgmp, ID: 36, Multiple Events: False,\n",
       " Session: Session washedat3, Solves: 19 for 3x3, ID: 37, Multiple Events: False,\n",
       " Session: Session 10.22 sqrs, Solves: 12 for sqrs, ID: 38, Multiple Events: False,\n",
       " Session: Session 10.17 333, Solves: 12 for 3x3, ID: 39, Multiple Events: False,\n",
       " Session: Session Squan goat, Solves: 10 for sqrs, ID: 40, Multiple Events: False,\n",
       " Session: Session 2 gen, Solves: 8 for 2gen, ID: 41, Multiple Events: False,\n",
       " Session: Session 10.8 333, Solves: 5 for 222so, ID: 42, Multiple Events: False,\n",
       " Session: Session fmc, Solves: 1 for 333fm, ID: 43, Multiple Events: False,\n",
       " Session: Session 2 3x3s, Solves: 0 for 3x3, ID: 44, Multiple Events: False,\n",
       " Session: Session MBLD, Solves: 3 for r3ni, ID: 45, Multiple Events: False,\n",
       " Session: Session virtual bld, Solves: 0 for 333ni, ID: 46, Multiple Events: False,\n",
       " Session: Session OH, Solves: 12 for 333oh, ID: 47, Multiple Events: False,\n",
       " Session: Session 8.25 333, Solves: 4 for 2gen, ID: 48, Multiple Events: False,\n",
       " Session: Session ll skip every time, Solves: 21 for 3x3, ID: 49, Multiple Events: False,\n",
       " Session: Session sub 20 OH, Solves: 4 for 333oh, ID: 50, Multiple Events: False,\n",
       " Session: Session 3bld scam, Solves: 13 for 333ni, ID: 51, Multiple Events: False,\n",
       " Session: Session rouxvirtual, Solves: 7 for 3x3, ID: 52, Multiple Events: False,\n",
       " Session: Session extrem slow turning, Solves: 19 for 3x3, ID: 53, Multiple Events: False,\n",
       " Session: Session PLLS, Solves: 9 for ll, ID: 54, Multiple Events: False,\n",
       " Session: Session 7.29 222so, Solves: 15 for 222so, ID: 55, Multiple Events: False,\n",
       " Session: Session fat, Solves: 100 for 3x3, ID: 56, Multiple Events: False,\n",
       " Session: Session 7.26 333oh, Solves: 0 for 2gen, ID: 57, Multiple Events: False,\n",
       " Session: Session 7.26 333, Solves: 1 for 3x3, ID: 58, Multiple Events: False,\n",
       " Session: Session 7.26 333, Solves: 1 for 3x3, ID: 59, Multiple Events: False,\n",
       " Session: Session 2balls, Solves: 103 for 222so, ID: 60, Multiple Events: False,\n",
       " Session: Session 1 day before, Solves: 21 for 3x3, ID: 61, Multiple Events: False,\n",
       " Session: Session 7.28 444wca, Solves: 14 for 444wca, ID: 62, Multiple Events: False,\n",
       " Session: Session please podium, Solves: 39 for 3x3, ID: 63, Multiple Events: False,\n",
       " Session: Session until sub 9, Solves: 2 for 3x3, ID: 64, Multiple Events: False,\n",
       " Session: Session oh god, Solves: 6 for 333oh, ID: 65, Multiple Events: False,\n",
       " Session: Session feb3, Solves: 12 for 333oh, ID: 66, Multiple Events: False,\n",
       " Session: Session good, Solves: 1 for 333oh, ID: 67, Multiple Events: False,\n",
       " Session: Session 1lll, Solves: 13 for 3x3, ID: 68, Multiple Events: False,\n",
       " Session: Session 2.23 333, Solves: 26 for 3x3, ID: 69, Multiple Events: False,\n",
       " Session: Session newcomers, Solves: 2 for 3x3, ID: 70, Multiple Events: False,\n",
       " Session: Session 26/2, Solves: 2 for 3x3, ID: 71, Multiple Events: False,\n",
       " Session: Session 2.27 333, Solves: 10 for 3x3, ID: 72, Multiple Events: False,\n",
       " Session: Session kasi, Solves: 33 for 3x3, ID: 73, Multiple Events: False,\n",
       " Session: Session firstmarch, Solves: 2 for 3x3, ID: 74, Multiple Events: False,\n",
       " Session: Session compsim, Solves: 20 for 222so, ID: 75, Multiple Events: False,\n",
       " Session: Session weak, Solves: 4 for 3x3, ID: 76, Multiple Events: False,\n",
       " Session: Session ao5 in every event that i do], Solves: 21 for 333oh, ID: 77, Multiple Events: False,\n",
       " Session: Session failed aime, Solves: 0 for 3x3, ID: 78, Multiple Events: False,\n",
       " Session: Session grind, Solves: 48 for 333oh, ID: 79, Multiple Events: False,\n",
       " Session: Session cross moves, Solves: 14 for 3x3, ID: 80, Multiple Events: False,\n",
       " Session: Session beat surya, Solves: 26 for 3x3, ID: 81, Multiple Events: False,\n",
       " Session: Session ys3m, Solves: 20 for 3x3, ID: 82, Multiple Events: False,\n",
       " Session: Session newcomers, Solves: 27 for 333oh, ID: 83, Multiple Events: False,\n",
       " Session: Session grind, Solves: 44 for 3x3, ID: 84, Multiple Events: False,\n",
       " Session: Session slay, Solves: 0 for 3x3, ID: 85, Multiple Events: False,\n",
       " Session: Session ap, Solves: 22 for 3x3, ID: 86, Multiple Events: False,\n",
       " Session: Session newcomers gurly, Solves: 11 for 3x3, ID: 87, Multiple Events: False,\n",
       " Session: Session prime i hope, Solves: 16 for 3x3, ID: 88, Multiple Events: False,\n",
       " Session: Session wc, Solves: 8 for 3x3, ID: 89, Multiple Events: False,\n",
       " Session: Session washing machine, Solves: 48 for 3x3, ID: 90, Multiple Events: False,\n",
       " Session: Session diet tips wsith amma, Solves: 20 for 3x3, ID: 91, Multiple Events: False,\n",
       " Session: Session ml grind, Solves: 0 for 3x3, ID: 92, Multiple Events: False,\n",
       " Session: Session obs, Solves: 22 for 3x3, ID: 93, Multiple Events: False,\n",
       " Session: Session comp tomorrow, Solves: 100 for 3x3, ID: 94, Multiple Events: False,\n",
       " Session: Session cstimer stresstesting, Solves: 17 for 3x3, ID: 95, Multiple Events: False,\n",
       " Session: Session 4bld, Solves: 8 for 3x3, ID: 96, Multiple Events: False,\n",
       " Session: Session comp tomorowo, Solves: 49 for sqrs, ID: 97, Multiple Events: False,\n",
       " Session: Session 8.4 333, Solves: 0 for 3x3, ID: 98, Multiple Events: False,\n",
       " Session: Session virtual oh, Solves: 7 for 3x3, ID: 99, Multiple Events: False,\n",
       " Session: Session k, Solves: 14 for easyxc, ID: 100, Multiple Events: False,\n",
       " Session: Session k, Solves: 6 for 3x3, ID: 101, Multiple Events: False,\n",
       " Session: Session vto, Solves: 6 for 3x3, ID: 102, Multiple Events: False,\n",
       " Session: Session i forgot how to do 4x4, Solves: 9 for 444wca, ID: 103, Multiple Events: False,\n",
       " Session: Session kasi, Solves: 18 for 3x3, ID: 104, Multiple Events: False,\n",
       " Session: Session 4x4, Solves: 1 for 444wca, ID: 105, Multiple Events: False,\n",
       " Session: Session anna gaadi mulgohitu, Solves: 29 for 3x3, ID: 106, Multiple Events: False,\n",
       " Session: Session vto, Solves: 0 for 3x3, ID: 107, Multiple Events: False,\n",
       " Session: Session bro ur so washed omgmgmgmg, Solves: 18 for 3x3, ID: 108, Multiple Events: False,\n",
       " Session: Session comptomorrow, Solves: 149 for 3x3, ID: 109, Multiple Events: False,\n",
       " Session: Session 45^2, Solves: 52 for 3x3, ID: 110, Multiple Events: False,\n",
       " Session: Session oh pop off, Solves: 11 for 333oh, ID: 111, Multiple Events: False,\n",
       " Session: Session whooping sukukskuks, Solves: 5 for r3, ID: 112, Multiple Events: False,\n",
       " Session: Session suku, Solves: 6 for 3x3, ID: 113, Multiple Events: False,\n",
       " Session: Session good, Solves: 41 for 3x3, ID: 114, Multiple Events: False,\n",
       " Session: Session ronaldo siuuuuuuuuuuuuu, Solves: 192 for 3x3, ID: 115, Multiple Events: False,\n",
       " Session: Session get good, Solves: 3 for 3x3, ID: 116, Multiple Events: False]"
      ]
     },
     "execution_count": 21,
     "metadata": {},
     "output_type": "execute_result"
    }
   ],
   "source": [
    "sessions"
   ]
  },
  {
   "cell_type": "code",
   "execution_count": 22,
   "id": "d8baaf75",
   "metadata": {},
   "outputs": [],
   "source": [
    "total_time = 0"
   ]
  },
  {
   "cell_type": "code",
   "execution_count": 24,
   "id": "86409a72",
   "metadata": {},
   "outputs": [],
   "source": [
    "for i in sessions:\n",
    "    for j in i.solves:\n",
    "        total_time += j.time"
   ]
  },
  {
   "cell_type": "code",
   "execution_count": 25,
   "id": "656766bd",
   "metadata": {},
   "outputs": [
    {
     "data": {
      "text/plain": [
       "363905.9050000013"
      ]
     },
     "execution_count": 25,
     "metadata": {},
     "output_type": "execute_result"
    }
   ],
   "source": [
    "total_time"
   ]
  },
  {
   "cell_type": "code",
   "execution_count": 26,
   "id": "29c075ae",
   "metadata": {},
   "outputs": [
    {
     "data": {
      "text/plain": [
       "101.08497361111148"
      ]
     },
     "execution_count": 26,
     "metadata": {},
     "output_type": "execute_result"
    }
   ],
   "source": [
    "total_time / 3600"
   ]
  },
  {
   "cell_type": "code",
   "execution_count": 27,
   "id": "3171a217",
   "metadata": {},
   "outputs": [
    {
     "data": {
      "text/plain": [
       "4.211873900462979"
      ]
     },
     "execution_count": 27,
     "metadata": {},
     "output_type": "execute_result"
    }
   ],
   "source": [
    "total_time/3600/24"
   ]
  },
  {
   "cell_type": "code",
   "execution_count": 2,
   "id": "e5e274b9",
   "metadata": {},
   "outputs": [],
   "source": [
    "import total_time_spent"
   ]
  },
  {
   "cell_type": "code",
   "execution_count": null,
   "id": "699b7584",
   "metadata": {},
   "outputs": [],
   "source": [
    "time_spent_breakup()"
   ]
  }
 ],
 "metadata": {
  "kernelspec": {
   "display_name": "Python 3 (ipykernel)",
   "language": "python",
   "name": "python3"
  },
  "language_info": {
   "codemirror_mode": {
    "name": "ipython",
    "version": 3
   },
   "file_extension": ".py",
   "mimetype": "text/x-python",
   "name": "python",
   "nbconvert_exporter": "python",
   "pygments_lexer": "ipython3",
   "version": "3.11.1"
  }
 },
 "nbformat": 4,
 "nbformat_minor": 5
}
